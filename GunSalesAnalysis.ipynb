{
  "nbformat": 4,
  "nbformat_minor": 0,
  "metadata": {
    "colab": {
      "name": "GunSalesAnalysis.ipynb",
      "version": "0.3.2",
      "provenance": [],
      "collapsed_sections": []
    },
    "kernelspec": {
      "name": "python3",
      "display_name": "Python 3"
    }
  },
  "cells": [
    {
      "cell_type": "markdown",
      "metadata": {
        "id": "YwRhW1PMrZtt",
        "colab_type": "text"
      },
      "source": [
        "**Exploratory Analysis of Gun Data in America**\n",
        "\n",
        "\n",
        "---\n",
        "\n",
        "\n",
        "Cait Moran June 2019"
      ]
    },
    {
      "cell_type": "markdown",
      "metadata": {
        "id": "Qo2FVHg2sFIB",
        "colab_type": "text"
      },
      "source": [
        "Import libraries and set global options"
      ]
    },
    {
      "cell_type": "code",
      "metadata": {
        "id": "sjC7RZmPI6Z8",
        "colab_type": "code",
        "colab": {}
      },
      "source": [
        "import pandas as pd\n",
        "import seaborn as sns\n",
        "import matplotlib.pyplot as plt\n",
        "import numpy as np\n",
        "import statsmodels.api as sm\n",
        "from statsmodels.formula.api import ols\n",
        "\n",
        "\n",
        "\n",
        "pd.options.display.float_format = '{:.2f}'.format"
      ],
      "execution_count": 0,
      "outputs": []
    },
    {
      "cell_type": "markdown",
      "metadata": {
        "id": "D0p-Lx5hsL09",
        "colab_type": "text"
      },
      "source": [
        "Ingest CSV data into Notebook from URL and verify success"
      ]
    },
    {
      "cell_type": "code",
      "metadata": {
        "id": "r4ko-EfwJ7OB",
        "colab_type": "code",
        "outputId": "e0ce20f1-785e-461b-d620-aeaa7cf61ab8",
        "colab": {
          "base_uri": "https://localhost:8080/",
          "height": 304
        }
      },
      "source": [
        "url = \"https://graphics8.nytimes.com/newsgraphics/2015/12/07/gun-sales/7120a9d57d2d14acc27f3f40eefc69d3ee793b80/all-data.csv\"\n",
        "df = pd.read_csv(url)\n",
        "df.head()"
      ],
      "execution_count": 2,
      "outputs": [
        {
          "output_type": "execute_result",
          "data": {
            "text/html": [
              "<div>\n",
              "<style scoped>\n",
              "    .dataframe tbody tr th:only-of-type {\n",
              "        vertical-align: middle;\n",
              "    }\n",
              "\n",
              "    .dataframe tbody tr th {\n",
              "        vertical-align: top;\n",
              "    }\n",
              "\n",
              "    .dataframe thead th {\n",
              "        text-align: right;\n",
              "    }\n",
              "</style>\n",
              "<table border=\"1\" class=\"dataframe\">\n",
              "  <thead>\n",
              "    <tr style=\"text-align: right;\">\n",
              "      <th></th>\n",
              "      <th>year</th>\n",
              "      <th>month</th>\n",
              "      <th>guns_total_per_1000</th>\n",
              "      <th>guns_total</th>\n",
              "      <th>guns_total_seas</th>\n",
              "      <th>handgun_share</th>\n",
              "      <th>longgun_share</th>\n",
              "      <th>missouri</th>\n",
              "      <th>maryland</th>\n",
              "      <th>new_jersey</th>\n",
              "      <th>district_of_columbia</th>\n",
              "      <th>mississippi</th>\n",
              "      <th>louisiana</th>\n",
              "      <th>alabama</th>\n",
              "      <th>texas</th>\n",
              "      <th>georgia</th>\n",
              "      <th>dc_handguns_per_100k_national_sales</th>\n",
              "    </tr>\n",
              "  </thead>\n",
              "  <tbody>\n",
              "    <tr>\n",
              "      <th>0</th>\n",
              "      <td>2000</td>\n",
              "      <td>1</td>\n",
              "      <td>2.33</td>\n",
              "      <td>574951</td>\n",
              "      <td>655088.71</td>\n",
              "      <td>0.32</td>\n",
              "      <td>0.67</td>\n",
              "      <td>2.71</td>\n",
              "      <td>0.64</td>\n",
              "      <td>0.47</td>\n",
              "      <td>0.00</td>\n",
              "      <td>2.39</td>\n",
              "      <td>2.51</td>\n",
              "      <td>3.14</td>\n",
              "      <td>8.16</td>\n",
              "      <td>3.08</td>\n",
              "      <td>2.10</td>\n",
              "    </tr>\n",
              "    <tr>\n",
              "      <th>1</th>\n",
              "      <td>2000</td>\n",
              "      <td>2</td>\n",
              "      <td>2.34</td>\n",
              "      <td>649111</td>\n",
              "      <td>658925.86</td>\n",
              "      <td>0.32</td>\n",
              "      <td>0.68</td>\n",
              "      <td>2.73</td>\n",
              "      <td>0.64</td>\n",
              "      <td>0.47</td>\n",
              "      <td>0.00</td>\n",
              "      <td>2.39</td>\n",
              "      <td>2.49</td>\n",
              "      <td>3.12</td>\n",
              "      <td>8.27</td>\n",
              "      <td>3.04</td>\n",
              "      <td>0.50</td>\n",
              "    </tr>\n",
              "    <tr>\n",
              "      <th>2</th>\n",
              "      <td>2000</td>\n",
              "      <td>3</td>\n",
              "      <td>2.33</td>\n",
              "      <td>664622</td>\n",
              "      <td>657022.00</td>\n",
              "      <td>0.32</td>\n",
              "      <td>0.67</td>\n",
              "      <td>2.67</td>\n",
              "      <td>0.64</td>\n",
              "      <td>0.49</td>\n",
              "      <td>0.00</td>\n",
              "      <td>2.34</td>\n",
              "      <td>2.45</td>\n",
              "      <td>3.07</td>\n",
              "      <td>8.44</td>\n",
              "      <td>3.07</td>\n",
              "      <td>1.00</td>\n",
              "    </tr>\n",
              "    <tr>\n",
              "      <th>3</th>\n",
              "      <td>2000</td>\n",
              "      <td>4</td>\n",
              "      <td>2.34</td>\n",
              "      <td>552965</td>\n",
              "      <td>659698.48</td>\n",
              "      <td>0.32</td>\n",
              "      <td>0.67</td>\n",
              "      <td>2.74</td>\n",
              "      <td>0.69</td>\n",
              "      <td>0.52</td>\n",
              "      <td>0.00</td>\n",
              "      <td>2.42</td>\n",
              "      <td>2.60</td>\n",
              "      <td>3.19</td>\n",
              "      <td>8.45</td>\n",
              "      <td>3.17</td>\n",
              "      <td>1.50</td>\n",
              "    </tr>\n",
              "    <tr>\n",
              "      <th>4</th>\n",
              "      <td>2000</td>\n",
              "      <td>5</td>\n",
              "      <td>2.30</td>\n",
              "      <td>467712</td>\n",
              "      <td>647409.45</td>\n",
              "      <td>0.31</td>\n",
              "      <td>0.68</td>\n",
              "      <td>2.74</td>\n",
              "      <td>0.68</td>\n",
              "      <td>0.53</td>\n",
              "      <td>0.00</td>\n",
              "      <td>2.45</td>\n",
              "      <td>2.54</td>\n",
              "      <td>3.18</td>\n",
              "      <td>8.51</td>\n",
              "      <td>3.09</td>\n",
              "      <td>1.10</td>\n",
              "    </tr>\n",
              "  </tbody>\n",
              "</table>\n",
              "</div>"
            ],
            "text/plain": [
              "   year  month  ...  georgia  dc_handguns_per_100k_national_sales\n",
              "0  2000      1  ...     3.08                                 2.10\n",
              "1  2000      2  ...     3.04                                 0.50\n",
              "2  2000      3  ...     3.07                                 1.00\n",
              "3  2000      4  ...     3.17                                 1.50\n",
              "4  2000      5  ...     3.09                                 1.10\n",
              "\n",
              "[5 rows x 17 columns]"
            ]
          },
          "metadata": {
            "tags": []
          },
          "execution_count": 2
        }
      ]
    },
    {
      "cell_type": "markdown",
      "metadata": {
        "id": "wiFd0W2hsZrd",
        "colab_type": "text"
      },
      "source": [
        "Get descriptive statistics of the dataset"
      ]
    },
    {
      "cell_type": "code",
      "metadata": {
        "id": "p2W2LighMlqQ",
        "colab_type": "code",
        "outputId": "e387b28b-0b94-4c5c-94d9-d0e24d7f31ca",
        "colab": {
          "base_uri": "https://localhost:8080/",
          "height": 397
        }
      },
      "source": [
        "df.describe()"
      ],
      "execution_count": 3,
      "outputs": [
        {
          "output_type": "execute_result",
          "data": {
            "text/html": [
              "<div>\n",
              "<style scoped>\n",
              "    .dataframe tbody tr th:only-of-type {\n",
              "        vertical-align: middle;\n",
              "    }\n",
              "\n",
              "    .dataframe tbody tr th {\n",
              "        vertical-align: top;\n",
              "    }\n",
              "\n",
              "    .dataframe thead th {\n",
              "        text-align: right;\n",
              "    }\n",
              "</style>\n",
              "<table border=\"1\" class=\"dataframe\">\n",
              "  <thead>\n",
              "    <tr style=\"text-align: right;\">\n",
              "      <th></th>\n",
              "      <th>year</th>\n",
              "      <th>month</th>\n",
              "      <th>guns_total_per_1000</th>\n",
              "      <th>guns_total</th>\n",
              "      <th>guns_total_seas</th>\n",
              "      <th>handgun_share</th>\n",
              "      <th>longgun_share</th>\n",
              "      <th>missouri</th>\n",
              "      <th>maryland</th>\n",
              "      <th>new_jersey</th>\n",
              "      <th>district_of_columbia</th>\n",
              "      <th>mississippi</th>\n",
              "      <th>louisiana</th>\n",
              "      <th>alabama</th>\n",
              "      <th>texas</th>\n",
              "      <th>georgia</th>\n",
              "      <th>dc_handguns_per_100k_national_sales</th>\n",
              "    </tr>\n",
              "  </thead>\n",
              "  <tbody>\n",
              "    <tr>\n",
              "      <th>count</th>\n",
              "      <td>191.00</td>\n",
              "      <td>191.00</td>\n",
              "      <td>191.00</td>\n",
              "      <td>191.00</td>\n",
              "      <td>191.00</td>\n",
              "      <td>191.00</td>\n",
              "      <td>191.00</td>\n",
              "      <td>191.00</td>\n",
              "      <td>191.00</td>\n",
              "      <td>191.00</td>\n",
              "      <td>191.00</td>\n",
              "      <td>191.00</td>\n",
              "      <td>191.00</td>\n",
              "      <td>191.00</td>\n",
              "      <td>191.00</td>\n",
              "      <td>191.00</td>\n",
              "      <td>191.00</td>\n",
              "    </tr>\n",
              "    <tr>\n",
              "      <th>mean</th>\n",
              "      <td>2007.46</td>\n",
              "      <td>6.47</td>\n",
              "      <td>2.71</td>\n",
              "      <td>824178.23</td>\n",
              "      <td>825543.64</td>\n",
              "      <td>0.38</td>\n",
              "      <td>0.60</td>\n",
              "      <td>3.12</td>\n",
              "      <td>0.92</td>\n",
              "      <td>0.61</td>\n",
              "      <td>0.00</td>\n",
              "      <td>1.75</td>\n",
              "      <td>2.42</td>\n",
              "      <td>2.98</td>\n",
              "      <td>8.25</td>\n",
              "      <td>2.68</td>\n",
              "      <td>4.10</td>\n",
              "    </tr>\n",
              "    <tr>\n",
              "      <th>std</th>\n",
              "      <td>4.60</td>\n",
              "      <td>3.45</td>\n",
              "      <td>0.69</td>\n",
              "      <td>307373.21</td>\n",
              "      <td>240811.37</td>\n",
              "      <td>0.08</td>\n",
              "      <td>0.08</td>\n",
              "      <td>0.39</td>\n",
              "      <td>0.39</td>\n",
              "      <td>0.12</td>\n",
              "      <td>0.00</td>\n",
              "      <td>0.30</td>\n",
              "      <td>0.21</td>\n",
              "      <td>0.17</td>\n",
              "      <td>0.60</td>\n",
              "      <td>0.41</td>\n",
              "      <td>4.07</td>\n",
              "    </tr>\n",
              "    <tr>\n",
              "      <th>min</th>\n",
              "      <td>2000.00</td>\n",
              "      <td>1.00</td>\n",
              "      <td>1.98</td>\n",
              "      <td>409742.00</td>\n",
              "      <td>573493.95</td>\n",
              "      <td>0.29</td>\n",
              "      <td>0.39</td>\n",
              "      <td>2.42</td>\n",
              "      <td>0.64</td>\n",
              "      <td>0.42</td>\n",
              "      <td>0.00</td>\n",
              "      <td>1.27</td>\n",
              "      <td>1.85</td>\n",
              "      <td>2.56</td>\n",
              "      <td>7.01</td>\n",
              "      <td>2.11</td>\n",
              "      <td>0.00</td>\n",
              "    </tr>\n",
              "    <tr>\n",
              "      <th>25%</th>\n",
              "      <td>2003.50</td>\n",
              "      <td>3.50</td>\n",
              "      <td>2.22</td>\n",
              "      <td>608674.50</td>\n",
              "      <td>636369.73</td>\n",
              "      <td>0.31</td>\n",
              "      <td>0.55</td>\n",
              "      <td>2.75</td>\n",
              "      <td>0.76</td>\n",
              "      <td>0.52</td>\n",
              "      <td>0.00</td>\n",
              "      <td>1.47</td>\n",
              "      <td>2.28</td>\n",
              "      <td>2.85</td>\n",
              "      <td>7.79</td>\n",
              "      <td>2.33</td>\n",
              "      <td>0.50</td>\n",
              "    </tr>\n",
              "    <tr>\n",
              "      <th>50%</th>\n",
              "      <td>2007.00</td>\n",
              "      <td>6.00</td>\n",
              "      <td>2.44</td>\n",
              "      <td>760901.00</td>\n",
              "      <td>740846.43</td>\n",
              "      <td>0.37</td>\n",
              "      <td>0.61</td>\n",
              "      <td>3.23</td>\n",
              "      <td>0.84</td>\n",
              "      <td>0.59</td>\n",
              "      <td>0.00</td>\n",
              "      <td>1.75</td>\n",
              "      <td>2.39</td>\n",
              "      <td>2.93</td>\n",
              "      <td>8.35</td>\n",
              "      <td>2.57</td>\n",
              "      <td>2.10</td>\n",
              "    </tr>\n",
              "    <tr>\n",
              "      <th>75%</th>\n",
              "      <td>2011.00</td>\n",
              "      <td>9.00</td>\n",
              "      <td>3.26</td>\n",
              "      <td>976963.50</td>\n",
              "      <td>1018934.01</td>\n",
              "      <td>0.43</td>\n",
              "      <td>0.68</td>\n",
              "      <td>3.47</td>\n",
              "      <td>1.01</td>\n",
              "      <td>0.68</td>\n",
              "      <td>0.00</td>\n",
              "      <td>1.87</td>\n",
              "      <td>2.51</td>\n",
              "      <td>3.10</td>\n",
              "      <td>8.66</td>\n",
              "      <td>3.01</td>\n",
              "      <td>7.70</td>\n",
              "    </tr>\n",
              "    <tr>\n",
              "      <th>max</th>\n",
              "      <td>2015.00</td>\n",
              "      <td>12.00</td>\n",
              "      <td>6.39</td>\n",
              "      <td>2388128.00</td>\n",
              "      <td>2014801.00</td>\n",
              "      <td>0.58</td>\n",
              "      <td>0.70</td>\n",
              "      <td>3.94</td>\n",
              "      <td>5.44</td>\n",
              "      <td>1.14</td>\n",
              "      <td>0.03</td>\n",
              "      <td>2.47</td>\n",
              "      <td>3.47</td>\n",
              "      <td>3.47</td>\n",
              "      <td>10.51</td>\n",
              "      <td>4.14</td>\n",
              "      <td>15.60</td>\n",
              "    </tr>\n",
              "  </tbody>\n",
              "</table>\n",
              "</div>"
            ],
            "text/plain": [
              "         year  month  ...  georgia  dc_handguns_per_100k_national_sales\n",
              "count  191.00 191.00  ...   191.00                               191.00\n",
              "mean  2007.46   6.47  ...     2.68                                 4.10\n",
              "std      4.60   3.45  ...     0.41                                 4.07\n",
              "min   2000.00   1.00  ...     2.11                                 0.00\n",
              "25%   2003.50   3.50  ...     2.33                                 0.50\n",
              "50%   2007.00   6.00  ...     2.57                                 2.10\n",
              "75%   2011.00   9.00  ...     3.01                                 7.70\n",
              "max   2015.00  12.00  ...     4.14                                15.60\n",
              "\n",
              "[8 rows x 17 columns]"
            ]
          },
          "metadata": {
            "tags": []
          },
          "execution_count": 3
        }
      ]
    },
    {
      "cell_type": "markdown",
      "metadata": {
        "id": "9tRTaVPuZnrF",
        "colab_type": "text"
      },
      "source": [
        "A few quick inferences from the descriptive statistics:\n",
        "\n",
        "- It looks like we do not have any missing values since the count is 191 for all variables. There are 191 data points in the dataset.\n",
        "- I'm unsure what the values in the state name and guns_total_seas columns refer to. I could not find any references of what these values represent.\n",
        "- This data includes every month between the years 2000 and 2015\n",
        "- Between 2000 and 2015, the highest number of gun sales in a single month was 2,388,128"
      ]
    },
    {
      "cell_type": "markdown",
      "metadata": {
        "id": "DPNIx8eI8ofM",
        "colab_type": "text"
      },
      "source": [
        "Hmmm.....I'd like to know a little bit more about that data point that had the highest gun sales. Let's take a look."
      ]
    },
    {
      "cell_type": "code",
      "metadata": {
        "id": "PKsL9Wik_KeL",
        "colab_type": "code",
        "colab": {
          "base_uri": "https://localhost:8080/",
          "height": 180
        },
        "outputId": "8a5f164c-cef9-4882-8bf0-b6469f325d9d"
      },
      "source": [
        "df[(df['guns_total'] == 2388128)]"
      ],
      "execution_count": 4,
      "outputs": [
        {
          "output_type": "execute_result",
          "data": {
            "text/html": [
              "<div>\n",
              "<style scoped>\n",
              "    .dataframe tbody tr th:only-of-type {\n",
              "        vertical-align: middle;\n",
              "    }\n",
              "\n",
              "    .dataframe tbody tr th {\n",
              "        vertical-align: top;\n",
              "    }\n",
              "\n",
              "    .dataframe thead th {\n",
              "        text-align: right;\n",
              "    }\n",
              "</style>\n",
              "<table border=\"1\" class=\"dataframe\">\n",
              "  <thead>\n",
              "    <tr style=\"text-align: right;\">\n",
              "      <th></th>\n",
              "      <th>year</th>\n",
              "      <th>month</th>\n",
              "      <th>guns_total_per_1000</th>\n",
              "      <th>guns_total</th>\n",
              "      <th>guns_total_seas</th>\n",
              "      <th>handgun_share</th>\n",
              "      <th>longgun_share</th>\n",
              "      <th>missouri</th>\n",
              "      <th>maryland</th>\n",
              "      <th>new_jersey</th>\n",
              "      <th>district_of_columbia</th>\n",
              "      <th>mississippi</th>\n",
              "      <th>louisiana</th>\n",
              "      <th>alabama</th>\n",
              "      <th>texas</th>\n",
              "      <th>georgia</th>\n",
              "      <th>dc_handguns_per_100k_national_sales</th>\n",
              "    </tr>\n",
              "  </thead>\n",
              "  <tbody>\n",
              "    <tr>\n",
              "      <th>155</th>\n",
              "      <td>2012</td>\n",
              "      <td>12</td>\n",
              "      <td>5.21</td>\n",
              "      <td>2388128</td>\n",
              "      <td>1642514.35</td>\n",
              "      <td>0.47</td>\n",
              "      <td>0.50</td>\n",
              "      <td>3.55</td>\n",
              "      <td>0.93</td>\n",
              "      <td>0.57</td>\n",
              "      <td>0.00</td>\n",
              "      <td>1.27</td>\n",
              "      <td>2.16</td>\n",
              "      <td>2.90</td>\n",
              "      <td>8.71</td>\n",
              "      <td>2.21</td>\n",
              "      <td>7.00</td>\n",
              "    </tr>\n",
              "  </tbody>\n",
              "</table>\n",
              "</div>"
            ],
            "text/plain": [
              "     year  month  ...  georgia  dc_handguns_per_100k_national_sales\n",
              "155  2012     12  ...     2.21                                 7.00\n",
              "\n",
              "[1 rows x 17 columns]"
            ]
          },
          "metadata": {
            "tags": []
          },
          "execution_count": 4
        }
      ]
    },
    {
      "cell_type": "markdown",
      "metadata": {
        "id": "8d0ZpJCNBmLM",
        "colab_type": "text"
      },
      "source": [
        "Interesting. Looks like December 2012 had the highest number of gun sales between 2000 and 2015.\n",
        "\n",
        "What was happening in December 2012 that may have caused this? When pursuing further analysis, this may be something to focus on from a political and societal context."
      ]
    },
    {
      "cell_type": "markdown",
      "metadata": {
        "id": "apNKZQI4tHbv",
        "colab_type": "text"
      },
      "source": [
        "Now, let's narrow down the data set to look at the total gun sales per year\n",
        "\n",
        "We drop all the features that are not year or guns_total and check if it's successful."
      ]
    },
    {
      "cell_type": "code",
      "metadata": {
        "id": "JLJG6s-3UYY8",
        "colab_type": "code",
        "outputId": "ca5daaa4-5afa-468e-87b0-67c97a152d37",
        "colab": {
          "base_uri": "https://localhost:8080/",
          "height": 204
        }
      },
      "source": [
        "df_year_gunsTotal = df.drop(df.columns.difference(['year','guns_total']), 1, inplace=False)\n",
        "df_year_gunsTotal.head()"
      ],
      "execution_count": 5,
      "outputs": [
        {
          "output_type": "execute_result",
          "data": {
            "text/html": [
              "<div>\n",
              "<style scoped>\n",
              "    .dataframe tbody tr th:only-of-type {\n",
              "        vertical-align: middle;\n",
              "    }\n",
              "\n",
              "    .dataframe tbody tr th {\n",
              "        vertical-align: top;\n",
              "    }\n",
              "\n",
              "    .dataframe thead th {\n",
              "        text-align: right;\n",
              "    }\n",
              "</style>\n",
              "<table border=\"1\" class=\"dataframe\">\n",
              "  <thead>\n",
              "    <tr style=\"text-align: right;\">\n",
              "      <th></th>\n",
              "      <th>year</th>\n",
              "      <th>guns_total</th>\n",
              "    </tr>\n",
              "  </thead>\n",
              "  <tbody>\n",
              "    <tr>\n",
              "      <th>0</th>\n",
              "      <td>2000</td>\n",
              "      <td>574951</td>\n",
              "    </tr>\n",
              "    <tr>\n",
              "      <th>1</th>\n",
              "      <td>2000</td>\n",
              "      <td>649111</td>\n",
              "    </tr>\n",
              "    <tr>\n",
              "      <th>2</th>\n",
              "      <td>2000</td>\n",
              "      <td>664622</td>\n",
              "    </tr>\n",
              "    <tr>\n",
              "      <th>3</th>\n",
              "      <td>2000</td>\n",
              "      <td>552965</td>\n",
              "    </tr>\n",
              "    <tr>\n",
              "      <th>4</th>\n",
              "      <td>2000</td>\n",
              "      <td>467712</td>\n",
              "    </tr>\n",
              "  </tbody>\n",
              "</table>\n",
              "</div>"
            ],
            "text/plain": [
              "   year  guns_total\n",
              "0  2000      574951\n",
              "1  2000      649111\n",
              "2  2000      664622\n",
              "3  2000      552965\n",
              "4  2000      467712"
            ]
          },
          "metadata": {
            "tags": []
          },
          "execution_count": 5
        }
      ]
    },
    {
      "cell_type": "markdown",
      "metadata": {
        "id": "JGTPmQfTtSEv",
        "colab_type": "text"
      },
      "source": [
        "Wait, this still shows us all the totals broken down by month for each year. Let's aggregate the subset of the data by adding up all the gun sales for each month in a year and get the total number of guns sales per year."
      ]
    },
    {
      "cell_type": "code",
      "metadata": {
        "id": "kI0RmAe-RZNa",
        "colab_type": "code",
        "outputId": "316fda3f-c15d-437a-c7f4-bf1449870413",
        "colab": {
          "base_uri": "https://localhost:8080/",
          "height": 576
        }
      },
      "source": [
        "guns_per_year = df_year_gunsTotal.groupby(['year']).sum()\n",
        "guns_per_year"
      ],
      "execution_count": 6,
      "outputs": [
        {
          "output_type": "execute_result",
          "data": {
            "text/html": [
              "<div>\n",
              "<style scoped>\n",
              "    .dataframe tbody tr th:only-of-type {\n",
              "        vertical-align: middle;\n",
              "    }\n",
              "\n",
              "    .dataframe tbody tr th {\n",
              "        vertical-align: top;\n",
              "    }\n",
              "\n",
              "    .dataframe thead th {\n",
              "        text-align: right;\n",
              "    }\n",
              "</style>\n",
              "<table border=\"1\" class=\"dataframe\">\n",
              "  <thead>\n",
              "    <tr style=\"text-align: right;\">\n",
              "      <th></th>\n",
              "      <th>guns_total</th>\n",
              "    </tr>\n",
              "    <tr>\n",
              "      <th>year</th>\n",
              "      <th></th>\n",
              "    </tr>\n",
              "  </thead>\n",
              "  <tbody>\n",
              "    <tr>\n",
              "      <th>2000</th>\n",
              "      <td>7860597</td>\n",
              "    </tr>\n",
              "    <tr>\n",
              "      <th>2001</th>\n",
              "      <td>8015913</td>\n",
              "    </tr>\n",
              "    <tr>\n",
              "      <th>2002</th>\n",
              "      <td>7066005</td>\n",
              "    </tr>\n",
              "    <tr>\n",
              "      <th>2003</th>\n",
              "      <td>7056022</td>\n",
              "    </tr>\n",
              "    <tr>\n",
              "      <th>2004</th>\n",
              "      <td>7351009</td>\n",
              "    </tr>\n",
              "    <tr>\n",
              "      <th>2005</th>\n",
              "      <td>7728322</td>\n",
              "    </tr>\n",
              "    <tr>\n",
              "      <th>2006</th>\n",
              "      <td>8214243</td>\n",
              "    </tr>\n",
              "    <tr>\n",
              "      <th>2007</th>\n",
              "      <td>8575760</td>\n",
              "    </tr>\n",
              "    <tr>\n",
              "      <th>2008</th>\n",
              "      <td>9437242</td>\n",
              "    </tr>\n",
              "    <tr>\n",
              "      <th>2009</th>\n",
              "      <td>10006440</td>\n",
              "    </tr>\n",
              "    <tr>\n",
              "      <th>2010</th>\n",
              "      <td>9733424</td>\n",
              "    </tr>\n",
              "    <tr>\n",
              "      <th>2011</th>\n",
              "      <td>11161326</td>\n",
              "    </tr>\n",
              "    <tr>\n",
              "      <th>2012</th>\n",
              "      <td>14264647</td>\n",
              "    </tr>\n",
              "    <tr>\n",
              "      <th>2013</th>\n",
              "      <td>15350652</td>\n",
              "    </tr>\n",
              "    <tr>\n",
              "      <th>2014</th>\n",
              "      <td>13367824</td>\n",
              "    </tr>\n",
              "    <tr>\n",
              "      <th>2015</th>\n",
              "      <td>12228616</td>\n",
              "    </tr>\n",
              "  </tbody>\n",
              "</table>\n",
              "</div>"
            ],
            "text/plain": [
              "      guns_total\n",
              "year            \n",
              "2000     7860597\n",
              "2001     8015913\n",
              "2002     7066005\n",
              "2003     7056022\n",
              "2004     7351009\n",
              "2005     7728322\n",
              "2006     8214243\n",
              "2007     8575760\n",
              "2008     9437242\n",
              "2009    10006440\n",
              "2010     9733424\n",
              "2011    11161326\n",
              "2012    14264647\n",
              "2013    15350652\n",
              "2014    13367824\n",
              "2015    12228616"
            ]
          },
          "metadata": {
            "tags": []
          },
          "execution_count": 6
        }
      ]
    },
    {
      "cell_type": "markdown",
      "metadata": {
        "id": "aWEj7EoWtvRW",
        "colab_type": "text"
      },
      "source": [
        "Now, let's visualize this. Reset the index after aggregation and visualize a simple bar plot to visualize the total gun sales between 2000 - 2015"
      ]
    },
    {
      "cell_type": "code",
      "metadata": {
        "id": "j7-gMmxCrNPg",
        "colab_type": "code",
        "outputId": "12a0551c-a221-4ba0-99a7-a3fa1cc0aeb7",
        "colab": {
          "base_uri": "https://localhost:8080/",
          "height": 658
        }
      },
      "source": [
        "guns_per_year.reset_index(inplace=True)\n",
        "plt.figure(figsize=(15,10))\n",
        "plt.title(\"Total Guns Sales Between 2000 - 2015 in America\")\n",
        "sns.barplot(x='year', y='guns_total', data=guns_per_year, ci=None);\n",
        "plt.xlabel(\"Year\")\n",
        "plt.ylabel(\"Total Number of Gun Sales\")"
      ],
      "execution_count": 7,
      "outputs": [
        {
          "output_type": "execute_result",
          "data": {
            "text/plain": [
              "Text(0, 0.5, 'Total Number of Gun Sales')"
            ]
          },
          "metadata": {
            "tags": []
          },
          "execution_count": 7
        },
        {
          "output_type": "display_data",
          "data": {
            "image/png": "[encoded data removed]",
            "text/plain": [
              "<Figure size 1080x720 with 1 Axes>"
            ]
          },
          "metadata": {
            "tags": []
          }
        }
      ]
    },
    {
      "cell_type": "markdown",
      "metadata": {
        "id": "uwAVRqSoZj_k",
        "colab_type": "text"
      },
      "source": [
        "Interesting. 2013 has the highest number of gun sales between 2000 and 2015, but we know the highest number of gun sales during this\n",
        "time period was in December 2012. This means that although 2013 had the highest gun sales overall, December 2012 sales were higher \n",
        "than any month in 2013."
      ]
    },
    {
      "cell_type": "markdown",
      "metadata": {
        "id": "0ykHGKUhWhX3",
        "colab_type": "text"
      },
      "source": [
        "So is December usually a month that has high gun sales?\n",
        "\n",
        "Let's check. We grab a subset to see gun sales by month."
      ]
    },
    {
      "cell_type": "code",
      "metadata": {
        "id": "POzRZERKWfh2",
        "colab_type": "code",
        "colab": {
          "base_uri": "https://localhost:8080/",
          "height": 204
        },
        "outputId": "edabd6f0-b8d1-4b42-e609-2cda9d5b960c"
      },
      "source": [
        "df_guns_by_month = df.drop(df.columns.difference(['month','guns_total']), 1, inplace=False)\n",
        "df_guns_by_month.head()"
      ],
      "execution_count": 8,
      "outputs": [
        {
          "output_type": "execute_result",
          "data": {
            "text/html": [
              "<div>\n",
              "<style scoped>\n",
              "    .dataframe tbody tr th:only-of-type {\n",
              "        vertical-align: middle;\n",
              "    }\n",
              "\n",
              "    .dataframe tbody tr th {\n",
              "        vertical-align: top;\n",
              "    }\n",
              "\n",
              "    .dataframe thead th {\n",
              "        text-align: right;\n",
              "    }\n",
              "</style>\n",
              "<table border=\"1\" class=\"dataframe\">\n",
              "  <thead>\n",
              "    <tr style=\"text-align: right;\">\n",
              "      <th></th>\n",
              "      <th>month</th>\n",
              "      <th>guns_total</th>\n",
              "    </tr>\n",
              "  </thead>\n",
              "  <tbody>\n",
              "    <tr>\n",
              "      <th>0</th>\n",
              "      <td>1</td>\n",
              "      <td>574951</td>\n",
              "    </tr>\n",
              "    <tr>\n",
              "      <th>1</th>\n",
              "      <td>2</td>\n",
              "      <td>649111</td>\n",
              "    </tr>\n",
              "    <tr>\n",
              "      <th>2</th>\n",
              "      <td>3</td>\n",
              "      <td>664622</td>\n",
              "    </tr>\n",
              "    <tr>\n",
              "      <th>3</th>\n",
              "      <td>4</td>\n",
              "      <td>552965</td>\n",
              "    </tr>\n",
              "    <tr>\n",
              "      <th>4</th>\n",
              "      <td>5</td>\n",
              "      <td>467712</td>\n",
              "    </tr>\n",
              "  </tbody>\n",
              "</table>\n",
              "</div>"
            ],
            "text/plain": [
              "   month  guns_total\n",
              "0      1      574951\n",
              "1      2      649111\n",
              "2      3      664622\n",
              "3      4      552965\n",
              "4      5      467712"
            ]
          },
          "metadata": {
            "tags": []
          },
          "execution_count": 8
        }
      ]
    },
    {
      "cell_type": "markdown",
      "metadata": {
        "id": "MMA1SFyaPqUA",
        "colab_type": "text"
      },
      "source": [
        "Visualize total gun sales by month."
      ]
    },
    {
      "cell_type": "code",
      "metadata": {
        "id": "Zh_KR5j7XTGn",
        "colab_type": "code",
        "colab": {
          "base_uri": "https://localhost:8080/",
          "height": 658
        },
        "outputId": "df1087bc-4e5a-4bfd-93ab-537a9edb5af0"
      },
      "source": [
        "plt.figure(figsize=(15,10))\n",
        "plt.title(\"Average Number of Gun Sales by Month Between 2000 - 2015\")\n",
        "sns.barplot(x='month', y='guns_total', data=df_guns_by_month, ci=None);\n",
        "plt.xlabel(\"Month\")\n",
        "plt.ylabel(\"Number of Gun Sales by Month\")"
      ],
      "execution_count": 9,
      "outputs": [
        {
          "output_type": "execute_result",
          "data": {
            "text/plain": [
              "Text(0, 0.5, 'Number of Gun Sales by Month')"
            ]
          },
          "metadata": {
            "tags": []
          },
          "execution_count": 9
        },
        {
          "output_type": "display_data",
          "data": {
            "image/png": "[encoded data removed]",
            "text/plain": [
              "<Figure size 1080x720 with 1 Axes>"
            ]
          },
          "metadata": {
            "tags": []
          }
        }
      ]
    },
    {
      "cell_type": "markdown",
      "metadata": {
        "id": "6LbA1vZ_XacB",
        "colab_type": "text"
      },
      "source": [
        "Looks like December usually has the highest number gun sales regardless. Without digging into any further research, an acceptable inference of \"why\" may be for the Christmas holiday and perhaps occurs this shows a reaction to political elections in November - these are just assumptions, we would need more research and analysis to make educated causal inferences."
      ]
    },
    {
      "cell_type": "markdown",
      "metadata": {
        "id": "5wBHE8wIZGJh",
        "colab_type": "text"
      },
      "source": [
        "It may be acceptable to assume the Christmas holiday and and political elections influence sales, how about the season? If we do a quick check related to seasons, maybe this would indicate if weather has any influences on sales.\n",
        "\n",
        "Let's prepare our data for the season analysis."
      ]
    },
    {
      "cell_type": "code",
      "metadata": {
        "id": "cPIypqMlZDs2",
        "colab_type": "code",
        "colab": {
          "base_uri": "https://localhost:8080/",
          "height": 204
        },
        "outputId": "6ce7216d-2ee1-4927-e597-d86793634cc0"
      },
      "source": [
        "df_guns_by_month['month'] = df_guns_by_month['month'].map({1: 'Winter', 2: 'Winter', 3: 'Spring', 4: 'Spring', 5: 'Spring', 6: 'Summer', 7: 'Summer', 8: 'Summer', 9: 'Fall', 10: 'Fall', 11: 'Fall', 12: 'Winter'})\n",
        "df_guns_by_season = df_guns_by_month\n",
        "df_guns_by_season.rename(columns={'month': 'season'}, inplace=True)\n",
        "df_guns_by_season.head()"
      ],
      "execution_count": 10,
      "outputs": [
        {
          "output_type": "execute_result",
          "data": {
            "text/html": [
              "<div>\n",
              "<style scoped>\n",
              "    .dataframe tbody tr th:only-of-type {\n",
              "        vertical-align: middle;\n",
              "    }\n",
              "\n",
              "    .dataframe tbody tr th {\n",
              "        vertical-align: top;\n",
              "    }\n",
              "\n",
              "    .dataframe thead th {\n",
              "        text-align: right;\n",
              "    }\n",
              "</style>\n",
              "<table border=\"1\" class=\"dataframe\">\n",
              "  <thead>\n",
              "    <tr style=\"text-align: right;\">\n",
              "      <th></th>\n",
              "      <th>season</th>\n",
              "      <th>guns_total</th>\n",
              "    </tr>\n",
              "  </thead>\n",
              "  <tbody>\n",
              "    <tr>\n",
              "      <th>0</th>\n",
              "      <td>Winter</td>\n",
              "      <td>574951</td>\n",
              "    </tr>\n",
              "    <tr>\n",
              "      <th>1</th>\n",
              "      <td>Winter</td>\n",
              "      <td>649111</td>\n",
              "    </tr>\n",
              "    <tr>\n",
              "      <th>2</th>\n",
              "      <td>Spring</td>\n",
              "      <td>664622</td>\n",
              "    </tr>\n",
              "    <tr>\n",
              "      <th>3</th>\n",
              "      <td>Spring</td>\n",
              "      <td>552965</td>\n",
              "    </tr>\n",
              "    <tr>\n",
              "      <th>4</th>\n",
              "      <td>Spring</td>\n",
              "      <td>467712</td>\n",
              "    </tr>\n",
              "  </tbody>\n",
              "</table>\n",
              "</div>"
            ],
            "text/plain": [
              "   season  guns_total\n",
              "0  Winter      574951\n",
              "1  Winter      649111\n",
              "2  Spring      664622\n",
              "3  Spring      552965\n",
              "4  Spring      467712"
            ]
          },
          "metadata": {
            "tags": []
          },
          "execution_count": 10
        }
      ]
    },
    {
      "cell_type": "markdown",
      "metadata": {
        "id": "3mc89gc1UM6-",
        "colab_type": "text"
      },
      "source": [
        "Let's plot the distribution of the totals by season."
      ]
    },
    {
      "cell_type": "code",
      "metadata": {
        "id": "4sqG9ANUULe5",
        "colab_type": "code",
        "colab": {
          "base_uri": "https://localhost:8080/",
          "height": 557
        },
        "outputId": "b289e73e-0c7b-4549-feaf-84f9e296f26c"
      },
      "source": [
        "df_guns_by_season.boxplot('guns_total', by='season', figsize=(12, 8))"
      ],
      "execution_count": 11,
      "outputs": [
        {
          "output_type": "execute_result",
          "data": {
            "text/plain": [
              "<matplotlib.axes._subplots.AxesSubplot at 0x7fda015d2898>"
            ]
          },
          "metadata": {
            "tags": []
          },
          "execution_count": 11
        },
        {
          "output_type": "display_data",
          "data": {
            "image/png": "[encoded data removed]",
            "text/plain": [
              "<Figure size 864x576 with 1 Axes>"
            ]
          },
          "metadata": {
            "tags": []
          }
        }
      ]
    },
    {
      "cell_type": "markdown",
      "metadata": {
        "id": "PLbPoYKtUufb",
        "colab_type": "text"
      },
      "source": [
        "These averages look pretty close on the graph, but are the differences of these averages statistically significant?\n",
        "\n",
        "Let's run an ANOVA on the data to see."
      ]
    },
    {
      "cell_type": "code",
      "metadata": {
        "id": "oMM-nmfAUgd0",
        "colab_type": "code",
        "colab": {
          "base_uri": "https://localhost:8080/",
          "height": 68
        },
        "outputId": "75832967-114e-4997-e7d4-390113005104"
      },
      "source": [
        "mod = ols('guns_total ~ season', data=df_guns_by_season).fit()\n",
        "aov_table = sm.stats.anova_lm(mod, typ=2)\n",
        "print(aov_table)"
      ],
      "execution_count": 12,
      "outputs": [
        {
          "output_type": "stream",
          "text": [
            "                    sum_sq     df     F  PR(>F)\n",
            "season    2976954948177.50   3.00 12.39    0.00\n",
            "Residual 14973919865332.38 187.00   nan     nan\n"
          ],
          "name": "stdout"
        }
      ]
    },
    {
      "cell_type": "markdown",
      "metadata": {
        "id": "HsrB_J7jVAfT",
        "colab_type": "text"
      },
      "source": [
        "Looks like the P value is less than 0.05, so we will go ahead and reject the null hypothesis and conclude that the differences of the average gun sales between seasons are statistically significant.\n",
        "\n",
        "What are the actual numbers of the average by season though?"
      ]
    },
    {
      "cell_type": "code",
      "metadata": {
        "id": "bg7Pfo09aFb4",
        "colab_type": "code",
        "colab": {
          "base_uri": "https://localhost:8080/",
          "height": 204
        },
        "outputId": "1d343b4b-556b-482b-ceff-b70d93e774fe"
      },
      "source": [
        "avg_guns_per_season = df_guns_by_season.groupby(['season']).mean()\n",
        "avg_guns_per_season.rename(columns={'guns_total': 'avg_guns_total'}, inplace=True)\n",
        "avg_guns_per_season"
      ],
      "execution_count": 13,
      "outputs": [
        {
          "output_type": "execute_result",
          "data": {
            "text/html": [
              "<div>\n",
              "<style scoped>\n",
              "    .dataframe tbody tr th:only-of-type {\n",
              "        vertical-align: middle;\n",
              "    }\n",
              "\n",
              "    .dataframe tbody tr th {\n",
              "        vertical-align: top;\n",
              "    }\n",
              "\n",
              "    .dataframe thead th {\n",
              "        text-align: right;\n",
              "    }\n",
              "</style>\n",
              "<table border=\"1\" class=\"dataframe\">\n",
              "  <thead>\n",
              "    <tr style=\"text-align: right;\">\n",
              "      <th></th>\n",
              "      <th>avg_guns_total</th>\n",
              "    </tr>\n",
              "    <tr>\n",
              "      <th>season</th>\n",
              "      <th></th>\n",
              "    </tr>\n",
              "  </thead>\n",
              "  <tbody>\n",
              "    <tr>\n",
              "      <th>Fall</th>\n",
              "      <td>918472.27</td>\n",
              "    </tr>\n",
              "    <tr>\n",
              "      <th>Spring</th>\n",
              "      <td>755953.25</td>\n",
              "    </tr>\n",
              "    <tr>\n",
              "      <th>Summer</th>\n",
              "      <td>656695.33</td>\n",
              "    </tr>\n",
              "    <tr>\n",
              "      <th>Winter</th>\n",
              "      <td>968600.87</td>\n",
              "    </tr>\n",
              "  </tbody>\n",
              "</table>\n",
              "</div>"
            ],
            "text/plain": [
              "        avg_guns_total\n",
              "season                \n",
              "Fall         918472.27\n",
              "Spring       755953.25\n",
              "Summer       656695.33\n",
              "Winter       968600.87"
            ]
          },
          "metadata": {
            "tags": []
          },
          "execution_count": 13
        }
      ]
    },
    {
      "cell_type": "markdown",
      "metadata": {
        "id": "EXwW58NtVfzZ",
        "colab_type": "text"
      },
      "source": [
        "In the Fall, an average of 918, 472 guns are sold in a year.\n",
        "In the Spring, an average of 755,953 guns are sold in a year.\n",
        "In the Summer an average of 656,695 guns are sold in a year.\n",
        "In the Winter an average of 968,600 guns are sold in a year.\n",
        "\n",
        "For further analysis it may be interesting to match these up with hunting seasons and find more specific information on what influences the differention in these numbers.\n",
        "\n",
        "However, for this brief exploratory analysis, Winter seems to be the most popular season to purchase guns.\n",
        "\n"
      ]
    },
    {
      "cell_type": "markdown",
      "metadata": {
        "id": "8ituPSzgIIdW",
        "colab_type": "text"
      },
      "source": [
        "Let's see if we can quickly visualize this trend over this time span.\n",
        "\n",
        "We saw some spikes earlier in our analysis in December and now we also know Winter is a popular time to purchase guns, \n",
        "let's take a look at the overall pattern and see if we notice any anomolies or trends."
      ]
    },
    {
      "cell_type": "code",
      "metadata": {
        "id": "iu63cTgsXZSU",
        "colab_type": "code",
        "outputId": "68e13124-de42-4962-f1ae-bae24c0514b3",
        "colab": {
          "base_uri": "https://localhost:8080/",
          "height": 522
        }
      },
      "source": [
        "guns_cycle, guns_trend = sm.tsa.filters.hpfilter(df_year_gunsTotal.guns_total)\n",
        "guns_decomp = df_year_gunsTotal[['guns_total']].copy()\n",
        "guns_decomp[\"cycle\"] = guns_cycle\n",
        "guns_decomp[\"trend\"] = guns_trend\n",
        "\n",
        "fig = plt.figure(figsize=(12,8))\n",
        "ax = fig.add_subplot(111)\n",
        "guns_decomp[[\"guns_total\", \"trend\"]].plot(ax=ax, fontsize=16);\n",
        "legend = ax.get_legend()\n",
        "legend.prop.set_size(20);\n",
        "plt.xlabel(\"Year\")\n",
        "plt.ylabel(\"Total Number of Gun Sales\")\n",
        "plt.gca().legend(('Total Gun Sales','Trend'))"
      ],
      "execution_count": 14,
      "outputs": [
        {
          "output_type": "execute_result",
          "data": {
            "text/plain": [
              "<matplotlib.legend.Legend at 0x7fd9fd8f4860>"
            ]
          },
          "metadata": {
            "tags": []
          },
          "execution_count": 14
        },
        {
          "output_type": "display_data",
          "data": {
            "image/png": "[encoded data removed]",
            "text/plain": [
              "<Figure size 864x576 with 1 Axes>"
            ]
          },
          "metadata": {
            "tags": []
          }
        }
      ]
    },
    {
      "cell_type": "markdown",
      "metadata": {
        "id": "3ejCIdgdIauN",
        "colab_type": "text"
      },
      "source": [
        "It looks like the overall trend is pretty consistent with a general slow and steady increase happening. This severe uptick that happened suggests a clear driver or event caused a change that was unexpected overall. From previous analysis we can assume this started in that December 2012 into 2013 timeframe. We definitely want to get to the bottom of what happened during this timeframe that served as the catalyst."
      ]
    },
    {
      "cell_type": "markdown",
      "metadata": {
        "id": "wwp8iz9QT7L_",
        "colab_type": "text"
      },
      "source": [
        "I'd also like to know more about the types of guns that contribute to these sales. I see Hand Gun and Long Gun catagories available in the data with values that are assumed to be percentage of market sales.\n",
        "\n",
        "Let's grab a subset of our dataset that breaks down Hand Gun share vs Long Gun share by year."
      ]
    },
    {
      "cell_type": "code",
      "metadata": {
        "id": "4rhPJhAa_opv",
        "colab_type": "code",
        "outputId": "6a8e674a-9dcc-464b-b4ca-df47401060e7",
        "colab": {
          "base_uri": "https://localhost:8080/",
          "height": 204
        }
      },
      "source": [
        "df_year_by_gunType = df.drop(df.columns.difference(['year','handgun_share','longgun_share']), 1, inplace=False)\n",
        "df_year_by_gunType.loc[:,'handgun_share'] *= 100\n",
        "df_year_by_gunType.loc[:,'longgun_share'] *= 100\n",
        "df_year_by_gunType.head()"
      ],
      "execution_count": 15,
      "outputs": [
        {
          "output_type": "execute_result",
          "data": {
            "text/html": [
              "<div>\n",
              "<style scoped>\n",
              "    .dataframe tbody tr th:only-of-type {\n",
              "        vertical-align: middle;\n",
              "    }\n",
              "\n",
              "    .dataframe tbody tr th {\n",
              "        vertical-align: top;\n",
              "    }\n",
              "\n",
              "    .dataframe thead th {\n",
              "        text-align: right;\n",
              "    }\n",
              "</style>\n",
              "<table border=\"1\" class=\"dataframe\">\n",
              "  <thead>\n",
              "    <tr style=\"text-align: right;\">\n",
              "      <th></th>\n",
              "      <th>year</th>\n",
              "      <th>handgun_share</th>\n",
              "      <th>longgun_share</th>\n",
              "    </tr>\n",
              "  </thead>\n",
              "  <tbody>\n",
              "    <tr>\n",
              "      <th>0</th>\n",
              "      <td>2000</td>\n",
              "      <td>31.83</td>\n",
              "      <td>67.49</td>\n",
              "    </tr>\n",
              "    <tr>\n",
              "      <th>1</th>\n",
              "      <td>2000</td>\n",
              "      <td>31.78</td>\n",
              "      <td>67.55</td>\n",
              "    </tr>\n",
              "    <tr>\n",
              "      <th>2</th>\n",
              "      <td>2000</td>\n",
              "      <td>32.02</td>\n",
              "      <td>67.28</td>\n",
              "    </tr>\n",
              "    <tr>\n",
              "      <th>3</th>\n",
              "      <td>2000</td>\n",
              "      <td>31.88</td>\n",
              "      <td>67.41</td>\n",
              "    </tr>\n",
              "    <tr>\n",
              "      <th>4</th>\n",
              "      <td>2000</td>\n",
              "      <td>31.48</td>\n",
              "      <td>67.75</td>\n",
              "    </tr>\n",
              "  </tbody>\n",
              "</table>\n",
              "</div>"
            ],
            "text/plain": [
              "   year  handgun_share  longgun_share\n",
              "0  2000          31.83          67.49\n",
              "1  2000          31.78          67.55\n",
              "2  2000          32.02          67.28\n",
              "3  2000          31.88          67.41\n",
              "4  2000          31.48          67.75"
            ]
          },
          "metadata": {
            "tags": []
          },
          "execution_count": 15
        }
      ]
    },
    {
      "cell_type": "markdown",
      "metadata": {
        "id": "2iBEYfXfXWXd",
        "colab_type": "text"
      },
      "source": [
        "Let's quickly visually what these percentages look like over time."
      ]
    },
    {
      "cell_type": "code",
      "metadata": {
        "id": "naMogQhKAZ5x",
        "colab_type": "code",
        "outputId": "035890b0-2181-446f-fd0f-246e2de3c3d3",
        "colab": {
          "base_uri": "https://localhost:8080/",
          "height": 658
        }
      },
      "source": [
        "plt.figure(figsize=(15,10))\n",
        "plt.title(\"Percentage of Hand Gun vs Long Gun Sales Between 2000 - 2015\")\n",
        "sns.lineplot(data=df_year_by_gunType, x='year', y='handgun_share', palette=\"tab10\", linewidth=2.5, legend=\"brief\")\n",
        "sns.lineplot(data=df_year_by_gunType, x='year', y='longgun_share', palette=\"tab10\", linewidth=2.5, legend=\"brief\")\n",
        "plt.xlabel(\"Year\")\n",
        "plt.ylabel(\"Percentage of Total Gun Sales\")\n",
        "plt.gca().legend(('Hand Gun','Long Gun'))"
      ],
      "execution_count": 16,
      "outputs": [
        {
          "output_type": "execute_result",
          "data": {
            "text/plain": [
              "<matplotlib.legend.Legend at 0x7fd9fbfc1e10>"
            ]
          },
          "metadata": {
            "tags": []
          },
          "execution_count": 16
        },
        {
          "output_type": "display_data",
          "data": {
            "image/png": "[encoded data removed]",
            "text/plain": [
              "<Figure size 1080x720 with 1 Axes>"
            ]
          },
          "metadata": {
            "tags": []
          }
        }
      ]
    },
    {
      "cell_type": "markdown",
      "metadata": {
        "id": "E4cpPg79XbGo",
        "colab_type": "text"
      },
      "source": [
        "Interesting. It looks like back in 2000, most of the guns sold in America were Long Guns and a small percentage Hand Guns. \n",
        "With a steady decrease in long gun sales and a steady increase in hand gun sales, it looks like right before 2014, \n",
        "there was a crossover where Hand Gun sales started to take over the market share from Long Guns.\n",
        "\n",
        "If we pair this with the previous information we learned, we can start to paint a story that not only did gun sales spike during 2013 timeframe, it was also the point that Hand Guns started to become a more popular purchase than Long Guns. With this information we can start to make some inferences, such as concluding that there may have been a significant shift in mindset of intended use or motive of gun ownership in America during this time period."
      ]
    }
  ]
}